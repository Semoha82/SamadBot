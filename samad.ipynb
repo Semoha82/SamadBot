{
 "cells": [
  {
   "cell_type": "code",
   "execution_count": 1,
   "metadata": {},
   "outputs": [
    {
     "name": "stdout",
     "output_type": "stream",
     "text": [
      "200\n",
      "<!doctype html>\n",
      "<html lang=\"fa\">\n",
      "<head>\n",
      "  <meta charset=\"utf-8\" />\n",
      "  <link rel=\"icon\" href=\"/favicon.ico\" />\n",
      "  <meta name=\"viewport\" content=\"width=device-width, initial-scale=1, user-scalable=no\" />\n",
      "  <meta name=\"theme-color\" content=\"#57c466\" />\n",
      "  <meta name=\"description\" content=\"Samad Application\" />\n",
      "  <link rel=\"apple-touch-icon\" href=\"/logo192.png\" />\n",
      "  <link rel=\"manifest\" href=\"/manifest.webmanifest\" />\n",
      "\n",
      "  <meta charset=\"UTF-8\" />\n",
      "  <link rel=\"icon\" href=\"/favicon.ico\" />\n",
      "  <title>Ø§Ù¾ÙÛÚ©ÛØ´Ù Ø³ÙØ§Ø¯ - Samad</title>\n",
      "  <script type=\"module\" crossorigin src=\"/assets/index-CKvkj7lH.js\"></script>\n",
      "  <link rel=\"modulepreload\" crossorigin href=\"/assets/antd-BLPxy4yC.js\">\n",
      "  <link rel=\"stylesheet\" crossorigin href=\"/assets/index-B4l-siAA.css\">\n",
      "<link rel=\"manifest\" href=\"/manifest.webmanifest\"><script id=\"vite-plugin-pwa:register-sw\" src=\"/registerSW.js\"></script></head>\n",
      "<body>\n",
      "  <noscript>You need to enable JavaScript to run this app.</noscript>\n",
      "  <div id=\"root\"></div>\n",
      "  <div id=\"modal\"></div>\n",
      "</body>\n",
      "</html>\n"
     ]
    }
   ],
   "source": [
    "import requests\n",
    "\n",
    "# ارسال یک درخواست GET به یک URL\n",
    "response = requests.get('https://samad.app/login')\n",
    "\n",
    "# بررسی وضعیت پاسخ\n",
    "print(response.status_code)  # وضعیت 200 نشان‌دهنده موفقیت آمیز بودن درخواست است\n",
    "\n",
    "# مشاهده محتویات پاسخ\n",
    "print(response.text)"
   ]
  }
 ],
 "metadata": {
  "kernelspec": {
   "display_name": "Python 3",
   "language": "python",
   "name": "python3"
  },
  "language_info": {
   "codemirror_mode": {
    "name": "ipython",
    "version": 3
   },
   "file_extension": ".py",
   "mimetype": "text/x-python",
   "name": "python",
   "nbconvert_exporter": "python",
   "pygments_lexer": "ipython3",
   "version": "3.12.3"
  }
 },
 "nbformat": 4,
 "nbformat_minor": 2
}
